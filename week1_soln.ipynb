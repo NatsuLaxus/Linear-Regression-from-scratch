{
  "nbformat": 4,
  "nbformat_minor": 0,
  "metadata": {
    "colab": {
      "name": "week1 soln.ipynb",
      "provenance": [],
      "authorship_tag": "ABX9TyNnrLlRZ50Gh6Qd4JCCWqX+",
      "include_colab_link": true
    },
    "kernelspec": {
      "name": "python3",
      "display_name": "Python 3"
    }
  },
  "cells": [
    {
      "cell_type": "markdown",
      "metadata": {
        "id": "view-in-github",
        "colab_type": "text"
      },
      "source": [
        "<a href=\"https://colab.research.google.com/github/NatsuLaxus/Linear-Regression-from-scratch/blob/master/week1_soln.ipynb\" target=\"_parent\"><img src=\"https://colab.research.google.com/assets/colab-badge.svg\" alt=\"Open In Colab\"/></a>"
      ]
    },
    {
      "cell_type": "code",
      "metadata": {
        "id": "9mQyxy97bdAu",
        "colab_type": "code",
        "colab": {}
      },
      "source": [
        "## Import stuff\n",
        " \n",
        "import numpy as np\n",
        "from sklearn import datasets, linear_model, metrics"
      ],
      "execution_count": 0,
      "outputs": []
    },
    {
      "cell_type": "code",
      "metadata": {
        "id": "d-6TLtq5beKK",
        "colab_type": "code",
        "colab": {}
      },
      "source": [
        "## Load the diabetes dataset\n",
        "diabetes = datasets.load_diabetes()\n",
        "diabetes_X = diabetes.data # matrix of dimensions 442x10\n",
        " \n",
        "# Split the data into training/testing sets\n",
        "diabetes_X_train = diabetes_X[:-20]\n",
        "diabetes_X_test = diabetes_X[-20:]\n",
        " \n",
        "# Split the targets into training/testing sets\n",
        "diabetes_y_train = diabetes.target[:-20]\n",
        "diabetes_y_test = diabetes.target[-20:]"
      ],
      "execution_count": 0,
      "outputs": []
    },
    {
      "cell_type": "code",
      "metadata": {
        "id": "6huZ5FKbbh3p",
        "colab_type": "code",
        "outputId": "91ada640-89e1-453f-ddc0-38af0c09cff4",
        "colab": {
          "base_uri": "https://localhost:8080/",
          "height": 353
        }
      },
      "source": [
        "# train\n",
        "X = diabetes_X_train\n",
        "y = diabetes_y_train\n",
        " \n",
        "# train: init\n",
        "W = np.random.uniform(low=-0.1, high=0.1, size=diabetes_X.shape[1])\n",
        "b = 0.0\n",
        " \n",
        "learning_rate = 0.1\n",
        "epochs = 100000\n",
        " \n",
        "# train: gradient descent\n",
        "for i in range(epochs):\n",
        "    # calculate predictions\n",
        "    y_predict = X.dot(W) + b\n",
        " \n",
        "    # calculate error and cost (mean squared error)\n",
        "    error = y - y_predict\n",
        "    mean_squared_error = np.mean(np.power(error, 2))\n",
        " \n",
        "    # calculate gradients\n",
        "    W_gradient = -(1.0/len(X)) * error.dot(X)\n",
        "    b_gradient = -(1.0/len(X)) * np.sum(error)\n",
        " \n",
        "    # update parameters\n",
        "    W = W - (learning_rate * W_gradient)\n",
        "    b = b - (learning_rate * b_gradient)\n",
        " \n",
        "    # diagnostic output\n",
        "    if i % 5000 == 0: print(\"Epoch %d: %f\" % (i, mean_squared_error))"
      ],
      "execution_count": 0,
      "outputs": [
        {
          "output_type": "stream",
          "text": [
            "Epoch 0: 29467.723982\n",
            "Epoch 5000: 3048.205653\n",
            "Epoch 10000: 2941.413850\n",
            "Epoch 15000: 2927.456988\n",
            "Epoch 20000: 2924.752090\n",
            "Epoch 25000: 2923.794759\n",
            "Epoch 30000: 2923.195085\n",
            "Epoch 35000: 2922.693854\n",
            "Epoch 40000: 2922.230731\n",
            "Epoch 45000: 2921.788916\n",
            "Epoch 50000: 2921.362805\n",
            "Epoch 55000: 2920.950013\n",
            "Epoch 60000: 2920.549197\n",
            "Epoch 65000: 2920.159412\n",
            "Epoch 70000: 2919.779904\n",
            "Epoch 75000: 2919.410042\n",
            "Epoch 80000: 2919.049281\n",
            "Epoch 85000: 2918.697146\n",
            "Epoch 90000: 2918.353220\n",
            "Epoch 95000: 2918.017135\n"
          ],
          "name": "stdout"
        }
      ]
    },
    {
      "cell_type": "code",
      "metadata": {
        "id": "Ojr5qkGIbj8V",
        "colab_type": "code",
        "outputId": "27c71fed-2678-4131-f292-ef6a9cecc087",
        "colab": {
          "base_uri": "https://localhost:8080/",
          "height": 101
        }
      },
      "source": [
        "# test\n",
        "X = diabetes_X_test\n",
        "y = diabetes_y_test\n",
        " \n",
        "y_predict = X.dot(W) + b\n",
        "error = y - y_predict\n",
        "mean_squared_error = np.mean(np.power(error, 2))\n",
        "print('Coefficients: \\n', W)\n",
        "print(\"Mean squared error: %.2f\" % mean_squared_error)\n",
        "print(\"=\"*120)"
      ],
      "execution_count": 0,
      "outputs": [
        {
          "output_type": "stream",
          "text": [
            "Coefficients: \n",
            " [   3.66163024 -234.66432148  519.39491376  325.58136672 -176.10351939\n",
            "  -16.43809026 -180.06715634  108.05083216  502.78496578   78.97022898]\n",
            "Mean squared error: 1993.53\n",
            "========================================================================================================================\n"
          ],
          "name": "stdout"
        }
      ]
    },
    {
      "cell_type": "code",
      "metadata": {
        "id": "y3YNiDqAbmck",
        "colab_type": "code",
        "colab": {}
      },
      "source": [
        ""
      ],
      "execution_count": 0,
      "outputs": []
    }
  ]
}